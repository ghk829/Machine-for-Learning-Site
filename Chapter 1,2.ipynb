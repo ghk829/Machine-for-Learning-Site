{
 "cells": [
  {
   "cell_type": "markdown",
   "metadata": {},
   "source": [
    "# 중고등학생을 위한 머신러닝"
   ]
  },
  {
   "cell_type": "markdown",
   "metadata": {},
   "source": [
    "## Chapter 3 : List와 집합(Set)\n",
    "이전까지 배웠던 내용은 집합과 출력하는 함수 print를 배웠어요.\n",
    "집합은 수학의 기본이고, print는 프로그래밍의 기초이기 때문에\n",
    "Chapter 1,2에 집합과 print를 배웠죠.\n",
    "그런데 오늘은 엄밀하게 집합을 공부하고자 해요."
   ]
  },
  {
   "cell_type": "code",
   "execution_count": 4,
   "metadata": {
    "collapsed": false
   },
   "outputs": [
    {
     "data": {
      "text/plain": [
       "[1, 2, 3, 4]"
      ]
     },
     "execution_count": 4,
     "metadata": {},
     "output_type": "execute_result"
    }
   ],
   "source": [
    "a=[1,2,3,4]\n",
    "a"
   ]
  },
  {
   "cell_type": "raw",
   "metadata": {},
   "source": [
    "a라는 집합에는 수가 1,2,3,4가 있습니다. 저번 위와 같이 표현하면 1,2,3,4를 원소로 한 집합이라고 설명했었죠.\n",
    "그런데 만약 1이 두개라면 어떻게 될까요?"
   ]
  },
  {
   "cell_type": "code",
   "execution_count": 5,
   "metadata": {
    "collapsed": false,
    "scrolled": true
   },
   "outputs": [
    {
     "data": {
      "text/plain": [
       "[1, 2, 3, 4, 1]"
      ]
     },
     "execution_count": 5,
     "metadata": {},
     "output_type": "execute_result"
    }
   ],
   "source": [
    "a.append(1)\n",
    "a"
   ]
  },
  {
   "cell_type": "raw",
   "metadata": {},
   "source": [
    "append라는 말은 영어로 추가하다에요. a라는 집합에 1을 추가하였으니 1이 추가된다고 생각할 수 있죠.\n",
    "하지만 엄밀한 의미에서 집합은 a라는 집합에 원소는 1,2,3,4밖에 없어요. 아래 그림을 통해 이해해보죠"
   ]
  },
  {
   "cell_type": "markdown",
   "metadata": {},
   "source": [
    "![title](http://www.aistudy.co.kr/computer/images/%EB%B6%80%EB%B6%84%EC%A7%91%ED%95%A9_%EB%B9%97%EA%B8%88.gif)"
   ]
  },
  {
   "cell_type": "raw",
   "metadata": {},
   "source": [
    "한 반에 남학생과 여학생이 30명이 있다고 하면 우리는 한 반의 성별(집합)에 남학생과 여학생이 몇 명씩 있다고 말해요.\n",
    "그러나 성별이 무엇이 있냐고만 묻는다면, 우리는 남자와 여자가 있다고 말을 하죠."
   ]
  },
  {
   "cell_type": "markdown",
   "metadata": {},
   "source": [
    "**파이썬에서는 이러한 정보를 추가적으로 활용하기 위해 List와 집합(set)을 구분하고자 하죠**\n",
    "(List의 활용은 뒤에서 더 심도있게 공부할게요. 일단, a=[1,2,3,4]와 a.append(1)을 잊지 마세요!)"
   ]
  },
  {
   "cell_type": "code",
   "execution_count": 8,
   "metadata": {
    "collapsed": false
   },
   "outputs": [
    {
     "data": {
      "text/plain": [
       "{1, 2, 3, 4}"
      ]
     },
     "execution_count": 8,
     "metadata": {},
     "output_type": "execute_result"
    }
   ],
   "source": [
    "set1=set(a)\n",
    "set1"
   ]
  },
  {
   "cell_type": "raw",
   "metadata": {},
   "source": [
    "{}가 있는 거 보이시죠? 사실 이 표기가 엄밀한 집합을 나타내는 기호에요. []는 List를 나타내기 위한 표기죠.\n",
    "영어로 set은 집합을 의미하는데, 파이썬에서는 엄밀한 집합을 구분하기 위하여 set이라는 함수를 만들었죠."
   ]
  },
  {
   "cell_type": "code",
   "execution_count": 11,
   "metadata": {
    "collapsed": false
   },
   "outputs": [
    {
     "data": {
      "text/plain": [
       "{1, 2, 3, 4}"
      ]
     },
     "execution_count": 11,
     "metadata": {},
     "output_type": "execute_result"
    }
   ],
   "source": [
    "set1.add(1)\n",
    "set1"
   ]
  },
  {
   "cell_type": "raw",
   "metadata": {},
   "source": [
    "집합에서는 원소를 추가하고자 할 때 .add를 사용하는데, 1을 추가하였는데도 원소가 변함이 없는거 보이죠?\n",
    "한 반에 남학생과 여학생이 몇 명있든 성별이라는 집합에는 영향이 미치지 않는 것과 같은 방식이죠."
   ]
  },
  {
   "cell_type": "code",
   "execution_count": 13,
   "metadata": {
    "collapsed": false
   },
   "outputs": [
    {
     "data": {
      "text/plain": [
       "{1, 2, 3, 4, 5}"
      ]
     },
     "execution_count": 13,
     "metadata": {},
     "output_type": "execute_result"
    }
   ],
   "source": [
    "set1.add(5)\n",
    "set1"
   ]
  },
  {
   "cell_type": "raw",
   "metadata": {},
   "source": [
    "반면, 5를 추가하였을 때는 5라는 원소가 추가된 것을 알 수 있죠."
   ]
  },
  {
   "cell_type": "markdown",
   "metadata": {
    "collapsed": false
   },
   "source": [
    "** Q1: range를 활용하여 1부터 10까지의 집합(set)을 만들어 보세요 **"
   ]
  },
  {
   "cell_type": "code",
   "execution_count": null,
   "metadata": {
    "collapsed": true
   },
   "outputs": [],
   "source": []
  },
  {
   "cell_type": "code",
   "execution_count": 18,
   "metadata": {
    "collapsed": false
   },
   "outputs": [
    {
     "data": {
      "text/html": [
       "<img src=\"http://cfile24.uf.tistory.com/image/22138E3556434ACF171246\" width=400 height=400>"
      ],
      "text/plain": [
       "<IPython.core.display.HTML object>"
      ]
     },
     "metadata": {},
     "output_type": "display_data"
    }
   ],
   "source": [
    "%%html\n",
    "<img src=\"http://cfile24.uf.tistory.com/image/22138E3556434ACF171246\" width=400 height=400>"
   ]
  },
  {
   "cell_type": "raw",
   "metadata": {},
   "source": [
    "집합에는 중요한 연산들이 있어요. 합집합, 교집합, 차집합 이 세가지죠.\n",
    "a={1,2,3,4} 와 b={3,4,5,6}을 예로 들어볼까요?"
   ]
  },
  {
   "cell_type": "raw",
   "metadata": {},
   "source": [
    "합집합은 두 집합(k>=2)에 있는 모든 원소들을 갖고 있는 집합을 이야기해요.\n",
    "말이 너무 어렵죠? 그림과 코드를 같이 보면서 공부해볼게요!\n",
    "합(Union)을 한번 쳐보죠!"
   ]
  },
  {
   "cell_type": "code",
   "execution_count": 22,
   "metadata": {
    "collapsed": false
   },
   "outputs": [
    {
     "data": {
      "text/plain": [
       "{1, 2, 3, 4, 5, 6}"
      ]
     },
     "execution_count": 22,
     "metadata": {},
     "output_type": "execute_result"
    }
   ],
   "source": [
    "a=set([1,2,3,4])\n",
    "b=set([3,4,5,6])\n",
    "a.union(b)"
   ]
  },
  {
   "cell_type": "markdown",
   "metadata": {},
   "source": [
    "![Union](Union.png)"
   ]
  },
  {
   "cell_type": "raw",
   "metadata": {},
   "source": [
    "1,2,3,4,5,6라고 나오네요? 비록 a에는 5,6이 없지만 합집합은 두 집합에 있는 모든 원소들을 갖고 있는 집합을 이야기하니\n",
    "위에서처럼 a.union(b)를 활용하는거죠!"
   ]
  },
  {
   "cell_type": "raw",
   "metadata": {},
   "source": [
    "그럼 교집합은?\n",
    "교집합은 두 집합 모두가 갖고 있는 원소들이 있는 집합을 의미해요.\n",
    "말이 너무 어려우니, 그림과 코드를 같이 볼게요."
   ]
  },
  {
   "cell_type": "code",
   "execution_count": 26,
   "metadata": {
    "collapsed": false
   },
   "outputs": [
    {
     "data": {
      "text/plain": [
       "{3, 4}"
      ]
     },
     "execution_count": 26,
     "metadata": {},
     "output_type": "execute_result"
    }
   ],
   "source": [
    "a.intersection(b)"
   ]
  },
  {
   "cell_type": "raw",
   "metadata": {},
   "source": [
    "영어로 intersection은 교차를 의미해요. \n",
    "교차? 남자 한 명과 숙녀 한 분이 걸어가다 만다면 두 사람이 만나는 자리는 두 사람 모두 있는 자리죠?\n",
    "이 자리를 두 사람이 교차하는 자리라고 해요.\n",
    "흠...말은 너무 어렵지만 그림에 값을 넣어보면서 생각해봐"
   ]
  },
  {
   "cell_type": "code",
   "execution_count": 25,
   "metadata": {
    "collapsed": false
   },
   "outputs": [
    {
     "data": {
      "text/plain": [
       "{1, 2}"
      ]
     },
     "execution_count": 25,
     "metadata": {},
     "output_type": "execute_result"
    }
   ],
   "source": [
    "a-b"
   ]
  },
  {
   "cell_type": "code",
   "execution_count": 4,
   "metadata": {
    "collapsed": false
   },
   "outputs": [],
   "source": [
    "a=range(4,11)"
   ]
  },
  {
   "cell_type": "code",
   "execution_count": 5,
   "metadata": {
    "collapsed": false,
    "scrolled": true
   },
   "outputs": [
    {
     "name": "stdout",
     "output_type": "stream",
     "text": [
      "4\n",
      "[4, 5, 6, 7, 8, 9, 10]\n"
     ]
    }
   ],
   "source": [
    "print a[0]\n",
    "print a"
   ]
  },
  {
   "cell_type": "raw",
   "metadata": {},
   "source": [
    "a의 첫번째 원소를 입력하기 위해선 0을 입력하는 것은 똑같습니다"
   ]
  },
  {
   "cell_type": "raw",
   "metadata": {},
   "source": [
    "그럼 a 집합의 길이가 몇 인지 알고 싶을 땐 어떡해야 할까요?\n",
    "위의 경우는 길이가 짧은 집합이기 때문에 일일이 세서 구할 수 있지만, 빅데이터와 같이 집합의 길이가 긴 경우 일일이 세기가 힘들어요.\n",
    "이를 위한 함수가 또 하나있죠."
   ]
  },
  {
   "cell_type": "code",
   "execution_count": 6,
   "metadata": {
    "collapsed": false
   },
   "outputs": [
    {
     "data": {
      "text/plain": [
       "7"
      ]
     },
     "execution_count": 6,
     "metadata": {},
     "output_type": "execute_result"
    }
   ],
   "source": [
    "len(a)"
   ]
  },
  {
   "cell_type": "raw",
   "metadata": {},
   "source": [
    "아까전에 선언했던 a라는 4부터 10까지의 집합에서 원소(집합의 개체)가 총 7개 있는데, 딱 맞아떨어지죠?"
   ]
  },
  {
   "cell_type": "code",
   "execution_count": 7,
   "metadata": {
    "collapsed": false
   },
   "outputs": [
    {
     "name": "stdout",
     "output_type": "stream",
     "text": [
      "10000\n",
      "0\n"
     ]
    }
   ],
   "source": [
    "a=range(10000)\n",
    "print len(a)\n",
    "print a[0]"
   ]
  },
  {
   "cell_type": "raw",
   "metadata": {},
   "source": [
    "여기서 또 주의해야 할것은 range(10000)은 0에서 9999까지의 숫자들의 집합이라는 겁니다."
   ]
  },
  {
   "cell_type": "markdown",
   "metadata": {},
   "source": [
    "**Q2:세자리의 숫자들의 집합을 생성하려면 어떡해야 할까요?**"
   ]
  },
  {
   "cell_type": "code",
   "execution_count": null,
   "metadata": {
    "collapsed": true
   },
   "outputs": [],
   "source": []
  },
  {
   "cell_type": "markdown",
   "metadata": {},
   "source": [
    "## Chapter 2: Print\n",
    "내 생각을 표현해보자. \n",
    "print를 통해서 문장을 출력(print)할 수 있어요.\n",
    "철수가 배고프다를 표현해볼까요?"
   ]
  },
  {
   "cell_type": "code",
   "execution_count": 8,
   "metadata": {
    "collapsed": false
   },
   "outputs": [
    {
     "name": "stdout",
     "output_type": "stream",
     "text": [
      "철수는 배고파\n"
     ]
    }
   ],
   "source": [
    "print \"철수는 배고파\""
   ]
  },
  {
   "cell_type": "raw",
   "metadata": {},
   "source": [
    "\"문장\"은 값이 문자라는 것을 나타내고, print는 문자인 값을 출력을 하는거에요.\n",
    "그런데 가끔은 변수[값]로 선언한 후 그 변수를 출력하고 싶을 때가 있어요."
   ]
  },
  {
   "cell_type": "code",
   "execution_count": 9,
   "metadata": {
    "collapsed": false
   },
   "outputs": [
    {
     "name": "stdout",
     "output_type": "stream",
     "text": [
      "철수는 배고파\n"
     ]
    }
   ],
   "source": [
    "a= \"철수는 배고파\"\n",
    "print a"
   ]
  },
  {
   "cell_type": "code",
   "execution_count": 10,
   "metadata": {
    "collapsed": false
   },
   "outputs": [
    {
     "data": {
      "text/plain": [
       "'\\xec\\xb2\\xa0\\xec\\x88\\x98\\xeb\\x8a\\x94 \\xeb\\xb0\\xb0\\xea\\xb3\\xa0\\xed\\x8c\\x8c'"
      ]
     },
     "execution_count": 10,
     "metadata": {},
     "output_type": "execute_result"
    }
   ],
   "source": [
    "a"
   ]
  },
  {
   "cell_type": "raw",
   "metadata": {},
   "source": [
    "a라는 값에는 철수는 배고파라는 말이 안에 들어있고, print함수는 이를 사람이 보기 좋게 출력해주는 함수인거죠."
   ]
  },
  {
   "cell_type": "code",
   "execution_count": 11,
   "metadata": {
    "collapsed": false
   },
   "outputs": [
    {
     "name": "stdout",
     "output_type": "stream",
     "text": [
      "2\n"
     ]
    }
   ],
   "source": [
    "a=2\n",
    "print a"
   ]
  },
  {
   "cell_type": "raw",
   "metadata": {},
   "source": [
    "위의 경우에는 a가 숫자 2기 때문에 2를 출력하는거에요."
   ]
  },
  {
   "cell_type": "markdown",
   "metadata": {},
   "source": [
    "**Q3 : 자신이 하고 싶은 말을 print를 통해서 말해보세요.**"
   ]
  },
  {
   "cell_type": "code",
   "execution_count": null,
   "metadata": {
    "collapsed": true
   },
   "outputs": [],
   "source": []
  },
  {
   "cell_type": "raw",
   "metadata": {},
   "source": [
    "그러면 \" \"을 넣는것과 그냥 숫자를 넣는 것과는 어떤 차이가 있을까요?\n",
    "답부터 말하면 \" \"는 문자형 데이터라는 것, 그냥 숫자는 숫자형 데이터라는 거에요.\n",
    "2+3을 예로 들어볼까요?"
   ]
  },
  {
   "cell_type": "code",
   "execution_count": 12,
   "metadata": {
    "collapsed": false
   },
   "outputs": [
    {
     "ename": "TypeError",
     "evalue": "cannot concatenate 'str' and 'int' objects",
     "output_type": "error",
     "traceback": [
      "\u001b[0;31m---------------------------------------------------------------------------\u001b[0m",
      "\u001b[0;31mTypeError\u001b[0m                                 Traceback (most recent call last)",
      "\u001b[0;32m<ipython-input-12-93efc83a45ee>\u001b[0m in \u001b[0;36m<module>\u001b[0;34m()\u001b[0m\n\u001b[1;32m      1\u001b[0m \u001b[0ma\u001b[0m\u001b[0;34m=\u001b[0m\u001b[0;34m\"2\"\u001b[0m\u001b[0;34m;\u001b[0m\u001b[0mb\u001b[0m\u001b[0;34m=\u001b[0m\u001b[0;36m2\u001b[0m\u001b[0;34m;\u001b[0m\u001b[0mc\u001b[0m\u001b[0;34m=\u001b[0m\u001b[0;36m3\u001b[0m\u001b[0;34m\u001b[0m\u001b[0m\n\u001b[0;32m----> 2\u001b[0;31m \u001b[0;32mprint\u001b[0m \u001b[0ma\u001b[0m\u001b[0;34m+\u001b[0m\u001b[0mb\u001b[0m\u001b[0;34m\u001b[0m\u001b[0m\n\u001b[0m",
      "\u001b[0;31mTypeError\u001b[0m: cannot concatenate 'str' and 'int' objects"
     ]
    }
   ],
   "source": [
    "a=\"2\";b=2;c=3\n",
    "print a+b"
   ]
  },
  {
   "cell_type": "code",
   "execution_count": 13,
   "metadata": {
    "collapsed": false
   },
   "outputs": [
    {
     "name": "stdout",
     "output_type": "stream",
     "text": [
      "5\n"
     ]
    }
   ],
   "source": [
    "print b+c"
   ]
  },
  {
   "cell_type": "raw",
   "metadata": {},
   "source": [
    "왜 그러는 걸까요? 컴퓨터 입장에서 생각하면 쉬워요.\n",
    "컴퓨터는 a를 \"2\"를 숫자로 생각하지 않고, 문자로 생각하고 있는데 숫자 3과 더하려니깐 문제가 생긴거에요.\n",
    "반면, b는 숫자 2로 인식하고 있기 때문에 3과 더할 수가 있죠."
   ]
  },
  {
   "cell_type": "code",
   "execution_count": 14,
   "metadata": {
    "collapsed": false
   },
   "outputs": [
    {
     "data": {
      "text/plain": [
       "'3'"
      ]
     },
     "execution_count": 14,
     "metadata": {},
     "output_type": "execute_result"
    }
   ],
   "source": [
    "str(c)"
   ]
  },
  {
   "cell_type": "raw",
   "metadata": {},
   "source": [
    "그럼 c가 문자라면 어떻게 될까요? str은 값을 문자형으로 바꿔주는 함수에요. 갑자기 ' '가 생기는 거 보이죠?"
   ]
  },
  {
   "cell_type": "code",
   "execution_count": 15,
   "metadata": {
    "collapsed": false
   },
   "outputs": [
    {
     "name": "stdout",
     "output_type": "stream",
     "text": [
      "23\n"
     ]
    }
   ],
   "source": [
    "print a+str(c)"
   ]
  },
  {
   "cell_type": "code",
   "execution_count": 16,
   "metadata": {
    "collapsed": false
   },
   "outputs": [
    {
     "ename": "TypeError",
     "evalue": "unsupported operand type(s) for +: 'int' and 'str'",
     "output_type": "error",
     "traceback": [
      "\u001b[0;31m---------------------------------------------------------------------------\u001b[0m",
      "\u001b[0;31mTypeError\u001b[0m                                 Traceback (most recent call last)",
      "\u001b[0;32m<ipython-input-16-1f90021336d7>\u001b[0m in \u001b[0;36m<module>\u001b[0;34m()\u001b[0m\n\u001b[0;32m----> 1\u001b[0;31m \u001b[0;32mprint\u001b[0m \u001b[0mb\u001b[0m\u001b[0;34m+\u001b[0m\u001b[0mstr\u001b[0m\u001b[0;34m(\u001b[0m\u001b[0mc\u001b[0m\u001b[0;34m)\u001b[0m\u001b[0;34m\u001b[0m\u001b[0m\n\u001b[0m",
      "\u001b[0;31mTypeError\u001b[0m: unsupported operand type(s) for +: 'int' and 'str'"
     ]
    }
   ],
   "source": [
    "print b+str(c)"
   ]
  },
  {
   "cell_type": "code",
   "execution_count": 17,
   "metadata": {
    "collapsed": false
   },
   "outputs": [
    {
     "name": "stdout",
     "output_type": "stream",
     "text": [
      "철수가배고프다\n"
     ]
    }
   ],
   "source": [
    "a=\"철수가\";c=\"배고프다\"\n",
    "print a+c"
   ]
  },
  {
   "cell_type": "raw",
   "metadata": {},
   "source": [
    "문자끼리 더하게 되는 순간 +는 문자들을 이어주는 것이 되었어요!\n",
    "+가 값이 문자냐 숫자냐에 따라 다르죠? 이러기 때문에 컴퓨터에선 오류가 생기는 거에요."
   ]
  },
  {
   "cell_type": "code",
   "execution_count": 18,
   "metadata": {
    "collapsed": false
   },
   "outputs": [
    {
     "name": "stdout",
     "output_type": "stream",
     "text": [
      "철수가 배고프다\n"
     ]
    }
   ],
   "source": [
    "print a+\" \"+c"
   ]
  },
  {
   "cell_type": "markdown",
   "metadata": {},
   "source": [
    "**Q4 : a=\"철수는\" ;b=\"사과를\"; c=1; d=\"개 먹었다\"\n",
    "주어진 값들을 이용하여 '철수는 사과를 1 개 먹었다'를 표현해보세요**"
   ]
  },
  {
   "cell_type": "code",
   "execution_count": null,
   "metadata": {
    "collapsed": true
   },
   "outputs": [],
   "source": []
  },
  {
   "cell_type": "markdown",
   "metadata": {},
   "source": [
    "## 답안지"
   ]
  },
  {
   "cell_type": "code",
   "execution_count": 19,
   "metadata": {
    "collapsed": false
   },
   "outputs": [
    {
     "name": "stdout",
     "output_type": "stream",
     "text": [
      "4\n",
      "4\n",
      "철수는 사과를 1 개 먹었다\n"
     ]
    }
   ],
   "source": [
    "# Q1 Answer:\n",
    "a=[1,2,3,4,5,6,7,8,9,10]\n",
    "print a[3]\n",
    "# or\n",
    "a=range(1,11)\n",
    "print a[3]\n",
    "#################################\n",
    "# Q2 Answer:\n",
    "a=range(100,1000)\n",
    "#################################\n",
    "# Q3 Answer:\n",
    "# print \"문장\"\n",
    "################################\n",
    "# Q4 Answer:\n",
    "a=\"철수는\" ;b=\"사과를\"; c=1; d=\"개 먹었다\"\n",
    "print a+\" \"+b+\" \"+str(c)+\" \"+d"
   ]
  },
  {
   "cell_type": "code",
   "execution_count": null,
   "metadata": {
    "collapsed": true
   },
   "outputs": [],
   "source": []
  }
 ],
 "metadata": {
  "kernelspec": {
   "display_name": "Python 2",
   "language": "python",
   "name": "python2"
  },
  "language_info": {
   "codemirror_mode": {
    "name": "ipython",
    "version": 2
   },
   "file_extension": ".py",
   "mimetype": "text/x-python",
   "name": "python",
   "nbconvert_exporter": "python",
   "pygments_lexer": "ipython2",
   "version": "2.7.12"
  }
 },
 "nbformat": 4,
 "nbformat_minor": 1
}
