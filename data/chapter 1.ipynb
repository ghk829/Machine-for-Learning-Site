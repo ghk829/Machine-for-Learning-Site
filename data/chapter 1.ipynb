{
 "cells": [
  {
   "cell_type": "raw",
   "metadata": {
    "collapsed": true
   },
   "source": [
    "Chapter 1: Print\n",
    "내 생각을 표현해보자. \n",
    "print를 통해서 문장을 출력(print)할 수 있어요.\n",
    "철수가 배고프다를 표현해볼까요?"
   ]
  },
  {
   "cell_type": "code",
   "execution_count": 7,
   "metadata": {
    "collapsed": false
   },
   "outputs": [
    {
     "name": "stdout",
     "output_type": "stream",
     "text": [
      "철수는 배고파\n"
     ]
    }
   ],
   "source": [
    "print \"철수는 배고파\""
   ]
  },
  {
   "cell_type": "raw",
   "metadata": {},
   "source": [
    "\"문장\"은 값이 문자라는 것을 나타내고, print는 문자인 값을 출력을 하는거에요.\n",
    "그런데 가끔은 변수[값]로 선언한 후 그 변수를 출력하고 싶을 때가 있어요."
   ]
  },
  {
   "cell_type": "code",
   "execution_count": 3,
   "metadata": {
    "collapsed": false
   },
   "outputs": [
    {
     "name": "stdout",
     "output_type": "stream",
     "text": [
      "철수는 배고파\n"
     ]
    }
   ],
   "source": [
    "a= \"철수는 배고파\"\n",
    "print a"
   ]
  },
  {
   "cell_type": "code",
   "execution_count": 4,
   "metadata": {
    "collapsed": false
   },
   "outputs": [
    {
     "data": {
      "text/plain": [
       "'\\xec\\xb2\\xa0\\xec\\x88\\x98\\xeb\\x8a\\x94 \\xeb\\xb0\\xb0\\xea\\xb3\\xa0\\xed\\x8c\\x8c'"
      ]
     },
     "execution_count": 4,
     "metadata": {},
     "output_type": "execute_result"
    }
   ],
   "source": [
    "a"
   ]
  },
  {
   "cell_type": "raw",
   "metadata": {},
   "source": [
    "a라는 값에는 철수는 배고파라는 말이 안에 들어있고, print함수는 이를 사람이 보기 좋게 출력해주는 함수인거죠."
   ]
  },
  {
   "cell_type": "code",
   "execution_count": 5,
   "metadata": {
    "collapsed": false,
    "scrolled": true
   },
   "outputs": [
    {
     "name": "stdout",
     "output_type": "stream",
     "text": [
      "2\n"
     ]
    }
   ],
   "source": [
    "a=2\n",
    "print a"
   ]
  },
  {
   "cell_type": "raw",
   "metadata": {},
   "source": [
    "위의 경우에는 a가 숫자 2기 때문에 2를 출력하는거에요."
   ]
  },
  {
   "cell_type": "markdown",
   "metadata": {},
   "source": [
    "Q1 : 자신이 하고 싶은 말을 print를 통해서 말해보세요."
   ]
  },
  {
   "cell_type": "code",
   "execution_count": null,
   "metadata": {
    "collapsed": true
   },
   "outputs": [],
   "source": []
  }
 ],
 "metadata": {
  "anaconda-cloud": {},
  "kernelspec": {
   "display_name": "Python [conda root]",
   "language": "python",
   "name": "conda-root-py"
  },
  "language_info": {
   "codemirror_mode": {
    "name": "ipython",
    "version": 2
   },
   "file_extension": ".py",
   "mimetype": "text/x-python",
   "name": "python",
   "nbconvert_exporter": "python",
   "pygments_lexer": "ipython2",
   "version": "2.7.12"
  }
 },
 "nbformat": 4,
 "nbformat_minor": 1
}
