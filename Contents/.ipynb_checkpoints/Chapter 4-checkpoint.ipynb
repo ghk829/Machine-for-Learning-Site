{
 "cells": [
  {
   "cell_type": "markdown",
   "metadata": {},
   "source": [
    "# 중고등학생을 위한 머신러닝"
   ]
  },
  {
   "cell_type": "markdown",
   "metadata": {},
   "source": [
    "## Chapter 4 : 여러 연산자\n",
    "이전까지 집합과 간단한 출력에 대해서 배웠어요.\n",
    "머신러닝에서 데이터에 대한 정보의 요약이나 데이터마이닝을 할 때\n",
    "우리는 관심있는 영역을 제한해야 할 때가 많죠.\n",
    "그럴 때 수학적으로나 프로그래밍적으로나 생각하기 쉬운 게 집합이에요.\n",
    "집합을 잘 배웠으니 오늘은 한번 집합 이외에 다른 것들을 어떻게 계산하는 지 배워볼게요.\n",
    "지겹지만 조금만 더 나가면 진정한 프로그래밍 문제들을 풀 수 있게 될 거에요. 화이팅!"
   ]
  },
  {
   "cell_type": "code",
   "execution_count": 1,
   "metadata": {
    "collapsed": false
   },
   "outputs": [
    {
     "name": "stdout",
     "output_type": "stream",
     "text": [
      "7\n",
      "3\n",
      "10\n",
      "2\n",
      "1\n"
     ]
    }
   ],
   "source": [
    "a=5 ; b=2\n",
    "print a+b;\n",
    "print a-b;\n",
    "print a*b;\n",
    "print a/b;\n",
    "print a%b;"
   ]
  },
  {
   "cell_type": "raw",
   "metadata": {},
   "source": [
    "파이썬에서 가장 많이 쓰는 연산자들이에요.\n",
    "차례대로 더하기, 빼기, 곱하기, 몫, 나머지(나누기의)에요."
   ]
  },
  {
   "cell_type": "raw",
   "metadata": {},
   "source": [
    "Q1 : a=1239081023890128390 b=123171823781237가 주어져있을 때 위의 연산을 해보세요"
   ]
  },
  {
   "cell_type": "code",
   "execution_count": null,
   "metadata": {
    "collapsed": true
   },
   "outputs": [],
   "source": []
  },
  {
   "cell_type": "raw",
   "metadata": {},
   "source": [
    "그런데 우리는 처음에 집합을 시작했을 때 []로 시작했고, 이게 사실은 집합이 아닌 List라고 했어그런데 우리는 처음에 집합을 시작했을 때 []로 시작했고, 이게 사실은 집합이 아닌 List라고 했어요.\n",
    "List는 일종의 저장소에요. 수들이나 아니면 문자들을 더해나갈 수 있죠"
   ]
  },
  {
   "cell_type": "code",
   "execution_count": 2,
   "metadata": {
    "collapsed": true
   },
   "outputs": [],
   "source": [
    "a=[1,2,3,4]; b=[5,6,7,8]"
   ]
  },
  {
   "cell_type": "code",
   "execution_count": 3,
   "metadata": {
    "collapsed": false
   },
   "outputs": [
    {
     "data": {
      "text/plain": [
       "[1, 2, 3, 4, 5, 6, 7, 8]"
      ]
     },
     "execution_count": 3,
     "metadata": {},
     "output_type": "execute_result"
    }
   ],
   "source": [
    "a+b"
   ]
  },
  {
   "cell_type": "code",
   "execution_count": 4,
   "metadata": {
    "collapsed": false
   },
   "outputs": [
    {
     "data": {
      "text/plain": [
       "[1, 2, 3, 4, 1, 2, 3, 4, 1, 2, 3, 4]"
      ]
     },
     "execution_count": 4,
     "metadata": {},
     "output_type": "execute_result"
    }
   ],
   "source": [
    "a*3"
   ]
  },
  {
   "cell_type": "code",
   "execution_count": 5,
   "metadata": {
    "collapsed": false
   },
   "outputs": [
    {
     "data": {
      "text/plain": [
       "['a', 'b', 'c', 'd', 'e', 'f', 'g', 'h']"
      ]
     },
     "execution_count": 5,
     "metadata": {},
     "output_type": "execute_result"
    }
   ],
   "source": [
    "a=['a','b','c','d'] ; b=['e','f','g','h']\n",
    "a+b"
   ]
  },
  {
   "cell_type": "raw",
   "metadata": {},
   "source": [
    "근데 리스트의 연산을 하고자 할 땐 +보단 이미 List안에 있는 함수들을 이용할 때가 많아요.\n",
    "저번에 봤던 append처럼 말이죠."
   ]
  },
  {
   "cell_type": "code",
   "execution_count": 6,
   "metadata": {
    "collapsed": false
   },
   "outputs": [
    {
     "name": "stdout",
     "output_type": "stream",
     "text": [
      "['a', 'b', 'c', 'd', ['e', 'f', 'g', 'h']]\n"
     ]
    }
   ],
   "source": [
    "a=['a','b','c','d'] ; b=['e','f','g','h']\n",
    "a.append(b)\n",
    "print a"
   ]
  },
  {
   "cell_type": "raw",
   "metadata": {},
   "source": [
    "어라? 저번에 append를 배웠었는데 두개가 뭔가 다르네요? 왜 그럴까요? \n",
    "append는 b라는 것을 넣는다는 건데 b 또한 수가 저장되어 있는 저장소이기 때문에 통째로 들어가는거죠."
   ]
  },
  {
   "cell_type": "raw",
   "metadata": {},
   "source": [
    "append를 쓰는 이유는 뭘까요? 예를 들어 List안에 List가 아닌 숫자나 문자를 넣고 싶다면 +는 할 수가 없어요. type이 다르기 때문이죠"
   ]
  },
  {
   "cell_type": "code",
   "execution_count": 7,
   "metadata": {
    "collapsed": false
   },
   "outputs": [],
   "source": [
    "a=[1,2,3,4] ;b=1 ;c=[2,3]"
   ]
  },
  {
   "cell_type": "code",
   "execution_count": 8,
   "metadata": {
    "collapsed": false
   },
   "outputs": [
    {
     "ename": "TypeError",
     "evalue": "can only concatenate list (not \"int\") to list",
     "output_type": "error",
     "traceback": [
      "\u001b[0;31m---------------------------------------------------------------------------\u001b[0m",
      "\u001b[0;31mTypeError\u001b[0m                                 Traceback (most recent call last)",
      "\u001b[0;32m<ipython-input-8-f1d53b280433>\u001b[0m in \u001b[0;36m<module>\u001b[0;34m()\u001b[0m\n\u001b[0;32m----> 1\u001b[0;31m \u001b[0ma\u001b[0m\u001b[0;34m+\u001b[0m\u001b[0mb\u001b[0m\u001b[0;34m\u001b[0m\u001b[0m\n\u001b[0m",
      "\u001b[0;31mTypeError\u001b[0m: can only concatenate list (not \"int\") to list"
     ]
    }
   ],
   "source": [
    "a+b"
   ]
  },
  {
   "cell_type": "code",
   "execution_count": 9,
   "metadata": {
    "collapsed": false
   },
   "outputs": [
    {
     "data": {
      "text/plain": [
       "[1, 2, 3, 4, 2, 3]"
      ]
     },
     "execution_count": 9,
     "metadata": {},
     "output_type": "execute_result"
    }
   ],
   "source": [
    "a+c"
   ]
  },
  {
   "cell_type": "code",
   "execution_count": 10,
   "metadata": {
    "collapsed": false
   },
   "outputs": [
    {
     "name": "stdout",
     "output_type": "stream",
     "text": [
      "[1, 2, 3, 4, 1]\n"
     ]
    }
   ],
   "source": [
    "a.append(b)\n",
    "print a"
   ]
  },
  {
   "cell_type": "code",
   "execution_count": 11,
   "metadata": {
    "collapsed": false
   },
   "outputs": [
    {
     "name": "stdout",
     "output_type": "stream",
     "text": [
      "[1, 2, 3, 4, 1, [2, 3]]\n"
     ]
    }
   ],
   "source": [
    "a.append(c)\n",
    "print a"
   ]
  },
  {
   "cell_type": "raw",
   "metadata": {},
   "source": [
    "컴퓨터 입장에서 생각해보면 쉬워요. 문자와 문자를 더해 문자를 나타내고, 숫자와 숫자를 더해 숫자를 반환하는 것처럼\n",
    "List와 List를 더해 List를 반환해야 하는데 숫자와 더해지니 컴퓨터는 혼돈에 빠져 오류가 발생하는 거죠.\n",
    "이 외에 List를 더 구체적으로 알아볼게요.\n",
    "extend(확장한다)는 정확히 +와 같은 연산이에요."
   ]
  },
  {
   "cell_type": "code",
   "execution_count": 12,
   "metadata": {
    "collapsed": false,
    "scrolled": true
   },
   "outputs": [
    {
     "name": "stdout",
     "output_type": "stream",
     "text": [
      "['a', 'b', 'c', 'd', 'e', 'f', 'g', 'h']\n"
     ]
    }
   ],
   "source": [
    "a=['a','b','c','d'] ; b=['e','f','g','h']\n",
    "a.extend(b)\n",
    "print a"
   ]
  },
  {
   "cell_type": "raw",
   "metadata": {},
   "source": [
    "그리고 우리는 순서에도 관심이 많을 때가 있다고 했었죠?!"
   ]
  },
  {
   "cell_type": "code",
   "execution_count": 13,
   "metadata": {
    "collapsed": false
   },
   "outputs": [
    {
     "name": "stdout",
     "output_type": "stream",
     "text": [
      "['a', 'b', 'c', 'd', ['e', 'f', 'g', 'h']]\n"
     ]
    }
   ],
   "source": [
    "a=['a','b','c','d'] ; b=['e','f','g','h']\n",
    "a.append(b)\n",
    "print a"
   ]
  },
  {
   "cell_type": "code",
   "execution_count": 14,
   "metadata": {
    "collapsed": false
   },
   "outputs": [
    {
     "name": "stdout",
     "output_type": "stream",
     "text": [
      "a\n",
      "b\n",
      "c\n",
      "d\n",
      "['e', 'f', 'g', 'h']\n"
     ]
    }
   ],
   "source": [
    "print a[0];\n",
    "print a[1];\n",
    "print a[2];\n",
    "print a[3];\n",
    "print a[4]"
   ]
  },
  {
   "cell_type": "raw",
   "metadata": {},
   "source": [
    "근데 만약 데이터를 잘못 넣어서 제거하고 싶을 땐 어떡할까요?"
   ]
  },
  {
   "cell_type": "code",
   "execution_count": 15,
   "metadata": {
    "collapsed": false
   },
   "outputs": [
    {
     "data": {
      "text/plain": [
       "['e', 'f', 'g', 'h']"
      ]
     },
     "execution_count": 15,
     "metadata": {},
     "output_type": "execute_result"
    }
   ],
   "source": [
    "a.pop()"
   ]
  },
  {
   "cell_type": "code",
   "execution_count": 16,
   "metadata": {
    "collapsed": false
   },
   "outputs": [
    {
     "data": {
      "text/plain": [
       "['a', 'b', 'c', 'd']"
      ]
     },
     "execution_count": 16,
     "metadata": {},
     "output_type": "execute_result"
    }
   ],
   "source": [
    "a"
   ]
  },
  {
   "cell_type": "raw",
   "metadata": {},
   "source": [
    "pop이라는 함수는 뒤에서부터 제거하는 동시에 나가는 데이터를 출력(print)해주는 함수에요"
   ]
  },
  {
   "cell_type": "code",
   "execution_count": 17,
   "metadata": {
    "collapsed": false
   },
   "outputs": [
    {
     "name": "stdout",
     "output_type": "stream",
     "text": [
      "['a', 'b', 'c']\n"
     ]
    }
   ],
   "source": [
    "a.pop()\n",
    "print a"
   ]
  },
  {
   "cell_type": "raw",
   "metadata": {},
   "source": [
    "두 번이나 했으니 d까지 빠진거죠!"
   ]
  },
  {
   "cell_type": "code",
   "execution_count": 18,
   "metadata": {
    "collapsed": false
   },
   "outputs": [
    {
     "data": {
      "text/plain": [
       "['e', 'f', 'g', 'h']"
      ]
     },
     "execution_count": 18,
     "metadata": {},
     "output_type": "execute_result"
    }
   ],
   "source": [
    "a=['a','b','c','d'] ; b=['e','f','g','h']\n",
    "a.append(b)\n",
    "a[4]"
   ]
  },
  {
   "cell_type": "raw",
   "metadata": {},
   "source": [
    "처음부터 4번째가 빼고싶을 땐 del(삭제하다)를 사용할 수도 있어요."
   ]
  },
  {
   "cell_type": "code",
   "execution_count": 19,
   "metadata": {
    "collapsed": false
   },
   "outputs": [
    {
     "name": "stdout",
     "output_type": "stream",
     "text": [
      "['a', 'b', 'c', 'd']\n"
     ]
    }
   ],
   "source": [
    "del a[4]\n",
    "print a"
   ]
  },
  {
   "cell_type": "code",
   "execution_count": 20,
   "metadata": {
    "collapsed": false
   },
   "outputs": [
    {
     "ename": "IndexError",
     "evalue": "list assignment index out of range",
     "output_type": "error",
     "traceback": [
      "\u001b[0;31m---------------------------------------------------------------------------\u001b[0m",
      "\u001b[0;31mIndexError\u001b[0m                                Traceback (most recent call last)",
      "\u001b[0;32m<ipython-input-20-20942bac2219>\u001b[0m in \u001b[0;36m<module>\u001b[0;34m()\u001b[0m\n\u001b[0;32m----> 1\u001b[0;31m \u001b[0;32mdel\u001b[0m \u001b[0ma\u001b[0m\u001b[0;34m[\u001b[0m\u001b[0;36m4\u001b[0m\u001b[0;34m]\u001b[0m\u001b[0;34m\u001b[0m\u001b[0m\n\u001b[0m",
      "\u001b[0;31mIndexError\u001b[0m: list assignment index out of range"
     ]
    }
   ],
   "source": [
    "del a[4]"
   ]
  },
  {
   "cell_type": "raw",
   "metadata": {},
   "source": [
    "아까전에 원소를 뺏으니 그 위치에는 해당하는 값이 없는거죠. \n",
    "혹은 그 위치에는 값이 없다라고 말해줘서 삭제할 수도 있죠."
   ]
  },
  {
   "cell_type": "code",
   "execution_count": 21,
   "metadata": {
    "collapsed": false
   },
   "outputs": [
    {
     "name": "stdout",
     "output_type": "stream",
     "text": [
      "['a', 'b', 'c']\n"
     ]
    }
   ],
   "source": [
    "a[3:4] = [ ]\n",
    "print a"
   ]
  },
  {
   "cell_type": "raw",
   "metadata": {},
   "source": [
    "슬라이싱을 할 때 마지막꺼는 참조하지 않는다고 했죠?! 3:4면 그냥 3이에요 ㅎㅎ"
   ]
  },
  {
   "cell_type": "raw",
   "metadata": {},
   "source": [
    "Q2 : 아래의 슬라이싱들의 결과를 보면서 어떤 의미일 지 추측해보세요."
   ]
  },
  {
   "cell_type": "code",
   "execution_count": 22,
   "metadata": {
    "collapsed": true
   },
   "outputs": [],
   "source": [
    "a=[1,2,3,4,5,6,7,8,9,10]\n",
    "#or\n",
    "a=range(1,11)"
   ]
  },
  {
   "cell_type": "code",
   "execution_count": 23,
   "metadata": {
    "collapsed": false
   },
   "outputs": [
    {
     "data": {
      "text/plain": [
       "[1, 2, 3, 4, 5]"
      ]
     },
     "execution_count": 23,
     "metadata": {},
     "output_type": "execute_result"
    }
   ],
   "source": [
    "#1\n",
    "a[0:5]"
   ]
  },
  {
   "cell_type": "raw",
   "metadata": {},
   "source": [
    "0에서부터 (5-1)에 위치한 원소들을 불러낸다"
   ]
  },
  {
   "cell_type": "code",
   "execution_count": 24,
   "metadata": {
    "collapsed": false,
    "scrolled": true
   },
   "outputs": [
    {
     "data": {
      "text/plain": [
       "[2, 3, 4, 5, 6, 7, 8, 9, 10]"
      ]
     },
     "execution_count": 24,
     "metadata": {},
     "output_type": "execute_result"
    }
   ],
   "source": [
    "#2\n",
    "a[1:]"
   ]
  },
  {
   "cell_type": "raw",
   "metadata": {},
   "source": [
    "1부터 나머지까지 불러낸다"
   ]
  },
  {
   "cell_type": "code",
   "execution_count": 25,
   "metadata": {
    "collapsed": false,
    "scrolled": true
   },
   "outputs": [
    {
     "data": {
      "text/plain": [
       "10"
      ]
     },
     "execution_count": 25,
     "metadata": {},
     "output_type": "execute_result"
    }
   ],
   "source": [
    "#3\n",
    "a[-1]"
   ]
  },
  {
   "cell_type": "raw",
   "metadata": {},
   "source": [
    "맨 뒤에서 첫 번째를 불러낸다"
   ]
  },
  {
   "cell_type": "code",
   "execution_count": 26,
   "metadata": {
    "collapsed": false,
    "scrolled": true
   },
   "outputs": [
    {
     "data": {
      "text/plain": [
       "[8, 9]"
      ]
     },
     "execution_count": 26,
     "metadata": {},
     "output_type": "execute_result"
    }
   ],
   "source": [
    "#4\n",
    "a[-3:-1]"
   ]
  },
  {
   "cell_type": "raw",
   "metadata": {},
   "source": [
    "맨 뒤에서 3번째부터 (맨 뒤에서 첫 번째 - 1)의 위치까지 불러낸다"
   ]
  },
  {
   "cell_type": "code",
   "execution_count": 27,
   "metadata": {
    "collapsed": false,
    "scrolled": true
   },
   "outputs": [
    {
     "data": {
      "text/plain": [
       "[1, 2, 3, 4, 5, 6, 7, 8]"
      ]
     },
     "execution_count": 27,
     "metadata": {},
     "output_type": "execute_result"
    }
   ],
   "source": [
    "#5\n",
    "a[:-2]"
   ]
  },
  {
   "cell_type": "raw",
   "metadata": {},
   "source": [
    "맨 뒤에서 (두번째-1)의 위치까지 불러낸다"
   ]
  },
  {
   "cell_type": "code",
   "execution_count": 28,
   "metadata": {
    "collapsed": false
   },
   "outputs": [
    {
     "data": {
      "text/plain": [
       "[1, 2, 3, 4, 5, 6, 7, 8, 9, 10]"
      ]
     },
     "execution_count": 28,
     "metadata": {},
     "output_type": "execute_result"
    }
   ],
   "source": [
    "#6\n",
    "a[::]"
   ]
  },
  {
   "cell_type": "raw",
   "metadata": {},
   "source": [
    "모든 원소들을 불러낸다.\n",
    "::는 슬라이싱에 같은 간격의 순서(등차수열)들의 위치들을 불러낼 수 있어요"
   ]
  },
  {
   "cell_type": "code",
   "execution_count": 29,
   "metadata": {
    "collapsed": false
   },
   "outputs": [
    {
     "data": {
      "text/plain": [
       "[1, 3, 5, 7, 9]"
      ]
     },
     "execution_count": 29,
     "metadata": {},
     "output_type": "execute_result"
    }
   ],
   "source": [
    "#7\n",
    "a[::2]"
   ]
  },
  {
   "cell_type": "markdown",
   "metadata": {},
   "source": [
    "![equal](http://www.softqt.com/softqt/data/board/research2/file_in_body/1/eab7b8eba6bc1.png)"
   ]
  },
  {
   "cell_type": "code",
   "execution_count": 30,
   "metadata": {
    "collapsed": false
   },
   "outputs": [
    {
     "data": {
      "text/plain": [
       "[1, 4, 7, 10]"
      ]
     },
     "execution_count": 30,
     "metadata": {},
     "output_type": "execute_result"
    }
   ],
   "source": [
    "#8\n",
    "a[::3]"
   ]
  },
  {
   "cell_type": "raw",
   "metadata": {},
   "source": [
    "3씩 더한 위치의 원소들을 불러내는거에요!"
   ]
  },
  {
   "cell_type": "code",
   "execution_count": 31,
   "metadata": {
    "collapsed": false
   },
   "outputs": [
    {
     "data": {
      "text/plain": [
       "[10, 9, 8, 7, 6, 5, 4, 3, 2, 1]"
      ]
     },
     "execution_count": 31,
     "metadata": {},
     "output_type": "execute_result"
    }
   ],
   "source": [
    "#8\n",
    "a[::-1]"
   ]
  },
  {
   "cell_type": "code",
   "execution_count": 32,
   "metadata": {
    "collapsed": false
   },
   "outputs": [
    {
     "data": {
      "text/plain": [
       "[1, 2, 3, 4, 5, 6, 7, 8, 9, 10]"
      ]
     },
     "execution_count": 32,
     "metadata": {},
     "output_type": "execute_result"
    }
   ],
   "source": [
    "a"
   ]
  },
  {
   "cell_type": "raw",
   "metadata": {},
   "source": [
    "역으로 불러낸다. append나 extend, reverse(거꾸로 뒤집는다)의 경우는 값을 반환하지 않고 List가 자체가 변하는 반면 a는 단지 슬라이싱했기 때문에 순서가 바뀌지 않아요."
   ]
  },
  {
   "cell_type": "code",
   "execution_count": 33,
   "metadata": {
    "collapsed": false
   },
   "outputs": [
    {
     "name": "stdout",
     "output_type": "stream",
     "text": [
      "[10, 9, 8, 7, 6, 5, 4, 3, 2, 1]\n"
     ]
    }
   ],
   "source": [
    "a.reverse()\n",
    "print a"
   ]
  },
  {
   "cell_type": "code",
   "execution_count": 34,
   "metadata": {
    "collapsed": false
   },
   "outputs": [
    {
     "name": "stdout",
     "output_type": "stream",
     "text": [
      "[1, 2, 3, 4, 5, 6, 7, 8, 9, 10]\n"
     ]
    }
   ],
   "source": [
    "a.reverse()\n",
    "print a"
   ]
  },
  {
   "cell_type": "raw",
   "metadata": {},
   "source": [
    "두 번 했기 때문에 다시 원위치로 돌아왔죠 ㅎㅎ"
   ]
  },
  {
   "cell_type": "code",
   "execution_count": 35,
   "metadata": {
    "collapsed": false,
    "scrolled": false
   },
   "outputs": [
    {
     "data": {
      "text/html": [
       "<img src=\"http://st2.depositphotos.com/1915171/5351/v/950/depositphotos_53513705-stock-illustration-angle-360-degrees-sign-icon.jpg\" width=400 height=400>"
      ],
      "text/plain": [
       "<IPython.core.display.HTML object>"
      ]
     },
     "metadata": {},
     "output_type": "display_data"
    }
   ],
   "source": [
    "%%html\n",
    "<img src=\"http://st2.depositphotos.com/1915171/5351/v/950/depositphotos_53513705-stock-illustration-angle-360-degrees-sign-icon.jpg\" width=400 height=400>"
   ]
  },
  {
   "cell_type": "raw",
   "metadata": {},
   "source": [
    "마지막으로 간단하게 List에 있는 함수들을 소개하고 오늘 강의는 끝내도록 할게요.\n",
    "List에 있는 함수들은 거의 모두 사용할 정도로 많이 쓰이고 있어요.\n",
    "머신러닝에서 데이터 작업을 하거나 프로그래밍 문제를 풀 때 많이 쓰이죠."
   ]
  },
  {
   "cell_type": "code",
   "execution_count": 36,
   "metadata": {
    "collapsed": false
   },
   "outputs": [
    {
     "name": "stdout",
     "output_type": "stream",
     "text": [
      "[1, 2, 3, 4, 5, 6, 7, 8, 9, 10, 1, [2, 3]]\n"
     ]
    }
   ],
   "source": [
    "a=range(1,11);b=1;c=[2,3]\n",
    "a.append(b)\n",
    "a.append(c)\n",
    "print a"
   ]
  },
  {
   "cell_type": "code",
   "execution_count": 37,
   "metadata": {
    "collapsed": false,
    "scrolled": true
   },
   "outputs": [
    {
     "data": {
      "text/plain": [
       "2"
      ]
     },
     "execution_count": 37,
     "metadata": {},
     "output_type": "execute_result"
    }
   ],
   "source": [
    "a.count(1)"
   ]
  },
  {
   "cell_type": "raw",
   "metadata": {},
   "source": [
    "a안에 1이 몇개있니?(count = 개수를 세다)"
   ]
  },
  {
   "cell_type": "code",
   "execution_count": 38,
   "metadata": {
    "collapsed": false
   },
   "outputs": [
    {
     "name": "stdout",
     "output_type": "stream",
     "text": [
      "0\n",
      "11\n"
     ]
    }
   ],
   "source": [
    "print a.index(1);\n",
    "print a.index([2,3])"
   ]
  },
  {
   "cell_type": "raw",
   "metadata": {},
   "source": [
    "a안에 [2,3]은 몇 번째 위치에 있니? 1은 몇 번째 위치에 있니?\n",
    "<컴퓨터 처음부터 세기 때문에 0번째 위치만 반환하죠.>"
   ]
  },
  {
   "cell_type": "raw",
   "metadata": {},
   "source": [
    "근데 빅데이터를 다루다면 데이터가 어디 어디에 위치해있는 지 궁금할 때가 많아요.\n",
    "그래서 뒤에서 나올 함수를 만들어 의도한 결과를 나타낼 수 있어요."
   ]
  },
  {
   "cell_type": "code",
   "execution_count": 39,
   "metadata": {
    "collapsed": true
   },
   "outputs": [],
   "source": [
    "def want_index(x,n):\n",
    "    index=[]\n",
    "    for i,j in enumerate(x):\n",
    "        if j==n:\n",
    "            index.append(i)\n",
    "    return index"
   ]
  },
  {
   "cell_type": "code",
   "execution_count": 40,
   "metadata": {
    "collapsed": false
   },
   "outputs": [
    {
     "data": {
      "text/plain": [
       "[0, 10]"
      ]
     },
     "execution_count": 40,
     "metadata": {},
     "output_type": "execute_result"
    }
   ],
   "source": [
    "want_index(a,1)"
   ]
  },
  {
   "cell_type": "code",
   "execution_count": 41,
   "metadata": {
    "collapsed": false
   },
   "outputs": [
    {
     "name": "stdout",
     "output_type": "stream",
     "text": [
      "[1, 10000, 2, 3, 4, 5, 6, 7, 8, 9, 10, 1, [2, 3]]\n"
     ]
    }
   ],
   "source": [
    "a.insert(1,10000)\n",
    "print a"
   ]
  },
  {
   "cell_type": "raw",
   "metadata": {},
   "source": [
    "a안에 1 위치에 10000을 넣어줘"
   ]
  },
  {
   "cell_type": "code",
   "execution_count": 42,
   "metadata": {
    "collapsed": false
   },
   "outputs": [
    {
     "name": "stdout",
     "output_type": "stream",
     "text": [
      "[1, 2, 3, 4, 5, 6, 7, 8, 9, 10, 1, [2, 3]]\n"
     ]
    }
   ],
   "source": [
    "a.remove(10000)\n",
    "print a"
   ]
  },
  {
   "cell_type": "raw",
   "metadata": {},
   "source": [
    "a안에 10000을 제거해줘"
   ]
  },
  {
   "cell_type": "code",
   "execution_count": 43,
   "metadata": {
    "collapsed": false,
    "scrolled": true
   },
   "outputs": [
    {
     "name": "stdout",
     "output_type": "stream",
     "text": [
      "[2, 3, 4, 5, 6, 7, 8, 9, 10, 1, [2, 3]]\n"
     ]
    }
   ],
   "source": [
    "a.remove(1)\n",
    "print a"
   ]
  },
  {
   "cell_type": "raw",
   "metadata": {},
   "source": [
    "<컴퓨터 처음부터 세기 때문에 맨 처음에 있는 1만 제거하죠.>"
   ]
  },
  {
   "cell_type": "code",
   "execution_count": 44,
   "metadata": {
    "collapsed": false
   },
   "outputs": [
    {
     "name": "stdout",
     "output_type": "stream",
     "text": [
      "[1, 2, 3, 4, 5, 6, 7, 8, 9, 10, [2, 3]]\n"
     ]
    }
   ],
   "source": [
    "a.sort()\n",
    "print a"
   ]
  },
  {
   "cell_type": "raw",
   "metadata": {},
   "source": [
    "a를 크기 순서대로 정렬해줘."
   ]
  },
  {
   "cell_type": "code",
   "execution_count": 45,
   "metadata": {
    "collapsed": false
   },
   "outputs": [
    {
     "name": "stdout",
     "output_type": "stream",
     "text": [
      "[[2, 3], 10, 9, 8, 7, 6, 5, 4, 3, 2, 1]\n"
     ]
    }
   ],
   "source": [
    "a.reverse()\n",
    "print a"
   ]
  },
  {
   "cell_type": "raw",
   "metadata": {},
   "source": [
    "이번 장 내용이 많았는데 공부하느라 너무 고생했어요.\n",
    "다음 장부터 프로그래밍의 시작이에요.\n",
    "다들 각오 단단히 하시고, 다음에 봐요!~"
   ]
  },
  {
   "cell_type": "markdown",
   "metadata": {},
   "source": [
    "![good](https://scontent.cdninstagram.com/hphotos-xft1/t51.2885-15/e15/11005048_372619062921483_1073512301_n.jpg)"
   ]
  },
  {
   "cell_type": "code",
   "execution_count": null,
   "metadata": {
    "collapsed": true
   },
   "outputs": [],
   "source": []
  }
 ],
 "metadata": {
  "kernelspec": {
   "display_name": "Python 2",
   "language": "python",
   "name": "python2"
  },
  "language_info": {
   "codemirror_mode": {
    "name": "ipython",
    "version": 2
   },
   "file_extension": ".py",
   "mimetype": "text/x-python",
   "name": "python",
   "nbconvert_exporter": "python",
   "pygments_lexer": "ipython2",
   "version": "2.7.12"
  }
 },
 "nbformat": 4,
 "nbformat_minor": 1
}
